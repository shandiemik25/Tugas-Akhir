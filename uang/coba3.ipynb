{
 "cells": [
  {
   "cell_type": "code",
   "execution_count": 2,
   "metadata": {},
   "outputs": [],
   "source": [
    "import pandas as pd\n",
    "import numpy as np\n",
    "import seaborn as sns\n",
    "import matplotlib.pyplot as plt\n",
    "from sklearn.model_selection import train_test_split\n",
    "from sklearn.metrics import accuracy_score\n",
    "from sklearn.metrics import classification_report\n",
    "import re\n",
    "import string"
   ]
  },
  {
   "cell_type": "code",
   "execution_count": 3,
   "metadata": {},
   "outputs": [
    {
     "data": {
      "text/html": [
       "<div>\n",
       "<style scoped>\n",
       "    .dataframe tbody tr th:only-of-type {\n",
       "        vertical-align: middle;\n",
       "    }\n",
       "\n",
       "    .dataframe tbody tr th {\n",
       "        vertical-align: top;\n",
       "    }\n",
       "\n",
       "    .dataframe thead th {\n",
       "        text-align: right;\n",
       "    }\n",
       "</style>\n",
       "<table border=\"1\" class=\"dataframe\">\n",
       "  <thead>\n",
       "    <tr style=\"text-align: right;\">\n",
       "      <th></th>\n",
       "      <th>R</th>\n",
       "      <th>G</th>\n",
       "      <th>B</th>\n",
       "      <th>label</th>\n",
       "    </tr>\n",
       "  </thead>\n",
       "  <tbody>\n",
       "    <tr>\n",
       "      <th>0</th>\n",
       "      <td>27</td>\n",
       "      <td>32</td>\n",
       "      <td>23</td>\n",
       "      <td>10</td>\n",
       "    </tr>\n",
       "    <tr>\n",
       "      <th>1</th>\n",
       "      <td>28</td>\n",
       "      <td>32</td>\n",
       "      <td>24</td>\n",
       "      <td>10</td>\n",
       "    </tr>\n",
       "    <tr>\n",
       "      <th>2</th>\n",
       "      <td>27</td>\n",
       "      <td>31</td>\n",
       "      <td>23</td>\n",
       "      <td>10</td>\n",
       "    </tr>\n",
       "    <tr>\n",
       "      <th>3</th>\n",
       "      <td>28</td>\n",
       "      <td>31</td>\n",
       "      <td>23</td>\n",
       "      <td>10</td>\n",
       "    </tr>\n",
       "    <tr>\n",
       "      <th>4</th>\n",
       "      <td>28</td>\n",
       "      <td>33</td>\n",
       "      <td>24</td>\n",
       "      <td>10</td>\n",
       "    </tr>\n",
       "    <tr>\n",
       "      <th>...</th>\n",
       "      <td>...</td>\n",
       "      <td>...</td>\n",
       "      <td>...</td>\n",
       "      <td>...</td>\n",
       "    </tr>\n",
       "    <tr>\n",
       "      <th>118</th>\n",
       "      <td>21</td>\n",
       "      <td>23</td>\n",
       "      <td>21</td>\n",
       "      <td>2</td>\n",
       "    </tr>\n",
       "    <tr>\n",
       "      <th>119</th>\n",
       "      <td>26</td>\n",
       "      <td>29</td>\n",
       "      <td>27</td>\n",
       "      <td>2</td>\n",
       "    </tr>\n",
       "    <tr>\n",
       "      <th>120</th>\n",
       "      <td>25</td>\n",
       "      <td>28</td>\n",
       "      <td>26</td>\n",
       "      <td>2</td>\n",
       "    </tr>\n",
       "    <tr>\n",
       "      <th>121</th>\n",
       "      <td>32</td>\n",
       "      <td>37</td>\n",
       "      <td>34</td>\n",
       "      <td>2</td>\n",
       "    </tr>\n",
       "    <tr>\n",
       "      <th>122</th>\n",
       "      <td>21</td>\n",
       "      <td>23</td>\n",
       "      <td>20</td>\n",
       "      <td>2</td>\n",
       "    </tr>\n",
       "  </tbody>\n",
       "</table>\n",
       "<p>123 rows × 4 columns</p>\n",
       "</div>"
      ],
      "text/plain": [
       "      R   G   B  label\n",
       "0    27  32  23     10\n",
       "1    28  32  24     10\n",
       "2    27  31  23     10\n",
       "3    28  31  23     10\n",
       "4    28  33  24     10\n",
       "..   ..  ..  ..    ...\n",
       "118  21  23  21      2\n",
       "119  26  29  27      2\n",
       "120  25  28  26      2\n",
       "121  32  37  34      2\n",
       "122  21  23  20      2\n",
       "\n",
       "[123 rows x 4 columns]"
      ]
     },
     "execution_count": 3,
     "metadata": {},
     "output_type": "execute_result"
    }
   ],
   "source": [
    "df = pd.read_csv('dataset.csv')\n",
    "df"
   ]
  },
  {
   "cell_type": "code",
   "execution_count": 4,
   "metadata": {},
   "outputs": [
    {
     "data": {
      "text/plain": [
       "R        int64\n",
       "G        int64\n",
       "B        int64\n",
       "label    int64\n",
       "dtype: object"
      ]
     },
     "execution_count": 4,
     "metadata": {},
     "output_type": "execute_result"
    }
   ],
   "source": [
    "df.dtypes"
   ]
  },
  {
   "cell_type": "code",
   "execution_count": 5,
   "metadata": {},
   "outputs": [
    {
     "data": {
      "text/plain": [
       "array([ 10,   5, 100,  50,   1,   2], dtype=int64)"
      ]
     },
     "execution_count": 5,
     "metadata": {},
     "output_type": "execute_result"
    }
   ],
   "source": [
    "df.label.unique()"
   ]
  },
  {
   "cell_type": "code",
   "execution_count": 6,
   "metadata": {},
   "outputs": [
    {
     "data": {
      "text/plain": [
       "R           int64\n",
       "G           int64\n",
       "B           int64\n",
       "label    category\n",
       "dtype: object"
      ]
     },
     "execution_count": 6,
     "metadata": {},
     "output_type": "execute_result"
    }
   ],
   "source": [
    "for col in ['label']:\n",
    "    df[col] = df[col].astype('category')\n",
    "df.dtypes"
   ]
  },
  {
   "cell_type": "code",
   "execution_count": 7,
   "metadata": {},
   "outputs": [
    {
     "data": {
      "text/html": [
       "<div>\n",
       "<style scoped>\n",
       "    .dataframe tbody tr th:only-of-type {\n",
       "        vertical-align: middle;\n",
       "    }\n",
       "\n",
       "    .dataframe tbody tr th {\n",
       "        vertical-align: top;\n",
       "    }\n",
       "\n",
       "    .dataframe thead th {\n",
       "        text-align: right;\n",
       "    }\n",
       "</style>\n",
       "<table border=\"1\" class=\"dataframe\">\n",
       "  <thead>\n",
       "    <tr style=\"text-align: right;\">\n",
       "      <th></th>\n",
       "      <th>R</th>\n",
       "      <th>G</th>\n",
       "      <th>B</th>\n",
       "      <th>label</th>\n",
       "    </tr>\n",
       "  </thead>\n",
       "  <tbody>\n",
       "    <tr>\n",
       "      <th>70</th>\n",
       "      <td>25</td>\n",
       "      <td>22</td>\n",
       "      <td>18</td>\n",
       "      <td>50</td>\n",
       "    </tr>\n",
       "    <tr>\n",
       "      <th>4</th>\n",
       "      <td>28</td>\n",
       "      <td>33</td>\n",
       "      <td>24</td>\n",
       "      <td>10</td>\n",
       "    </tr>\n",
       "    <tr>\n",
       "      <th>7</th>\n",
       "      <td>29</td>\n",
       "      <td>34</td>\n",
       "      <td>25</td>\n",
       "      <td>10</td>\n",
       "    </tr>\n",
       "    <tr>\n",
       "      <th>75</th>\n",
       "      <td>33</td>\n",
       "      <td>34</td>\n",
       "      <td>31</td>\n",
       "      <td>1</td>\n",
       "    </tr>\n",
       "    <tr>\n",
       "      <th>74</th>\n",
       "      <td>31</td>\n",
       "      <td>32</td>\n",
       "      <td>28</td>\n",
       "      <td>1</td>\n",
       "    </tr>\n",
       "  </tbody>\n",
       "</table>\n",
       "</div>"
      ],
      "text/plain": [
       "     R   G   B label\n",
       "70  25  22  18    50\n",
       "4   28  33  24    10\n",
       "7   29  34  25    10\n",
       "75  33  34  31     1\n",
       "74  31  32  28     1"
      ]
     },
     "execution_count": 7,
     "metadata": {},
     "output_type": "execute_result"
    }
   ],
   "source": [
    "df = df.sample(frac=1)\n",
    "df.head()"
   ]
  },
  {
   "cell_type": "code",
   "execution_count": 8,
   "metadata": {},
   "outputs": [],
   "source": [
    "x = df[[\"R\", \"G\", \"B\"]]\n",
    "y = df[\"label\"]"
   ]
  },
  {
   "cell_type": "code",
   "execution_count": 9,
   "metadata": {},
   "outputs": [],
   "source": [
    "x_train, x_test, y_train, y_test = train_test_split(x, y, test_size=0.25)"
   ]
  },
  {
   "cell_type": "markdown",
   "metadata": {},
   "source": [
    "## Logistic Regression"
   ]
  },
  {
   "cell_type": "code",
   "execution_count": 10,
   "metadata": {},
   "outputs": [],
   "source": [
    "from sklearn.linear_model import LogisticRegression"
   ]
  },
  {
   "cell_type": "code",
   "execution_count": 11,
   "metadata": {},
   "outputs": [
    {
     "name": "stderr",
     "output_type": "stream",
     "text": [
      "d:\\shandie\\Anaconda\\lib\\site-packages\\sklearn\\linear_model\\_logistic.py:814: ConvergenceWarning: lbfgs failed to converge (status=1):\n",
      "STOP: TOTAL NO. of ITERATIONS REACHED LIMIT.\n",
      "\n",
      "Increase the number of iterations (max_iter) or scale the data as shown in:\n",
      "    https://scikit-learn.org/stable/modules/preprocessing.html\n",
      "Please also refer to the documentation for alternative solver options:\n",
      "    https://scikit-learn.org/stable/modules/linear_model.html#logistic-regression\n",
      "  n_iter_i = _check_optimize_result(\n"
     ]
    },
    {
     "data": {
      "text/plain": [
       "LogisticRegression()"
      ]
     },
     "execution_count": 11,
     "metadata": {},
     "output_type": "execute_result"
    }
   ],
   "source": [
    "LR = LogisticRegression()\n",
    "LR.fit(x_train,y_train)"
   ]
  },
  {
   "cell_type": "code",
   "execution_count": 12,
   "metadata": {},
   "outputs": [],
   "source": [
    "pred_lr=LR.predict(x_test)"
   ]
  },
  {
   "cell_type": "code",
   "execution_count": 13,
   "metadata": {},
   "outputs": [
    {
     "data": {
      "text/plain": [
       "0.8709677419354839"
      ]
     },
     "execution_count": 13,
     "metadata": {},
     "output_type": "execute_result"
    }
   ],
   "source": [
    "LR.score(x_test, y_test)"
   ]
  },
  {
   "cell_type": "code",
   "execution_count": 14,
   "metadata": {},
   "outputs": [
    {
     "name": "stdout",
     "output_type": "stream",
     "text": [
      "              precision    recall  f1-score   support\n",
      "\n",
      "           1       0.75      1.00      0.86         3\n",
      "           2       0.80      0.57      0.67         7\n",
      "           5       0.67      1.00      0.80         4\n",
      "          10       1.00      1.00      1.00        11\n",
      "          50       0.00      0.00      0.00         1\n",
      "         100       1.00      1.00      1.00         5\n",
      "\n",
      "    accuracy                           0.87        31\n",
      "   macro avg       0.70      0.76      0.72        31\n",
      "weighted avg       0.86      0.87      0.85        31\n",
      "\n"
     ]
    },
    {
     "name": "stderr",
     "output_type": "stream",
     "text": [
      "d:\\shandie\\Anaconda\\lib\\site-packages\\sklearn\\metrics\\_classification.py:1318: UndefinedMetricWarning: Precision and F-score are ill-defined and being set to 0.0 in labels with no predicted samples. Use `zero_division` parameter to control this behavior.\n",
      "  _warn_prf(average, modifier, msg_start, len(result))\n",
      "d:\\shandie\\Anaconda\\lib\\site-packages\\sklearn\\metrics\\_classification.py:1318: UndefinedMetricWarning: Precision and F-score are ill-defined and being set to 0.0 in labels with no predicted samples. Use `zero_division` parameter to control this behavior.\n",
      "  _warn_prf(average, modifier, msg_start, len(result))\n",
      "d:\\shandie\\Anaconda\\lib\\site-packages\\sklearn\\metrics\\_classification.py:1318: UndefinedMetricWarning: Precision and F-score are ill-defined and being set to 0.0 in labels with no predicted samples. Use `zero_division` parameter to control this behavior.\n",
      "  _warn_prf(average, modifier, msg_start, len(result))\n"
     ]
    }
   ],
   "source": [
    "print(classification_report(y_test, pred_lr))"
   ]
  },
  {
   "cell_type": "markdown",
   "metadata": {},
   "source": [
    "## Decision Tree"
   ]
  },
  {
   "cell_type": "code",
   "execution_count": 15,
   "metadata": {},
   "outputs": [],
   "source": [
    "from sklearn.tree import DecisionTreeClassifier"
   ]
  },
  {
   "cell_type": "code",
   "execution_count": 16,
   "metadata": {},
   "outputs": [
    {
     "data": {
      "text/plain": [
       "DecisionTreeClassifier()"
      ]
     },
     "execution_count": 16,
     "metadata": {},
     "output_type": "execute_result"
    }
   ],
   "source": [
    "DT = DecisionTreeClassifier()\n",
    "DT.fit(x_train, y_train)"
   ]
  },
  {
   "cell_type": "code",
   "execution_count": 17,
   "metadata": {},
   "outputs": [],
   "source": [
    "pred_dt = DT.predict(x_test)"
   ]
  },
  {
   "cell_type": "code",
   "execution_count": 18,
   "metadata": {},
   "outputs": [
    {
     "data": {
      "text/plain": [
       "0.8709677419354839"
      ]
     },
     "execution_count": 18,
     "metadata": {},
     "output_type": "execute_result"
    }
   ],
   "source": [
    "DT.score(x_test, y_test)"
   ]
  },
  {
   "cell_type": "code",
   "execution_count": 19,
   "metadata": {},
   "outputs": [
    {
     "name": "stdout",
     "output_type": "stream",
     "text": [
      "              precision    recall  f1-score   support\n",
      "\n",
      "           1       0.50      0.67      0.57         3\n",
      "           2       0.80      0.57      0.67         7\n",
      "           5       0.80      1.00      0.89         4\n",
      "          10       1.00      1.00      1.00        11\n",
      "          50       1.00      1.00      1.00         1\n",
      "         100       1.00      1.00      1.00         5\n",
      "\n",
      "    accuracy                           0.87        31\n",
      "   macro avg       0.85      0.87      0.85        31\n",
      "weighted avg       0.88      0.87      0.87        31\n",
      "\n"
     ]
    }
   ],
   "source": [
    "print(classification_report(y_test, pred_dt))"
   ]
  },
  {
   "cell_type": "markdown",
   "metadata": {},
   "source": [
    "### 3. Gradient Boosting Classifier"
   ]
  },
  {
   "cell_type": "code",
   "execution_count": 20,
   "metadata": {},
   "outputs": [],
   "source": [
    "from sklearn.ensemble import GradientBoostingClassifier"
   ]
  },
  {
   "cell_type": "code",
   "execution_count": 21,
   "metadata": {},
   "outputs": [
    {
     "data": {
      "text/plain": [
       "GradientBoostingClassifier(random_state=0)"
      ]
     },
     "execution_count": 21,
     "metadata": {},
     "output_type": "execute_result"
    }
   ],
   "source": [
    "GBC = GradientBoostingClassifier(random_state=0)\n",
    "GBC.fit(x_train, y_train)"
   ]
  },
  {
   "cell_type": "code",
   "execution_count": 22,
   "metadata": {},
   "outputs": [],
   "source": [
    "pred_gbc = GBC.predict(x_test)"
   ]
  },
  {
   "cell_type": "code",
   "execution_count": 23,
   "metadata": {},
   "outputs": [
    {
     "data": {
      "text/plain": [
       "0.8387096774193549"
      ]
     },
     "execution_count": 23,
     "metadata": {},
     "output_type": "execute_result"
    }
   ],
   "source": [
    "GBC.score(x_test, y_test)"
   ]
  },
  {
   "cell_type": "code",
   "execution_count": 24,
   "metadata": {},
   "outputs": [
    {
     "name": "stdout",
     "output_type": "stream",
     "text": [
      "              precision    recall  f1-score   support\n",
      "\n",
      "           1       0.33      0.67      0.44         3\n",
      "           2       0.80      0.57      0.67         7\n",
      "           5       1.00      1.00      1.00         4\n",
      "          10       1.00      1.00      1.00        11\n",
      "          50       0.00      0.00      0.00         1\n",
      "         100       1.00      1.00      1.00         5\n",
      "\n",
      "    accuracy                           0.84        31\n",
      "   macro avg       0.69      0.71      0.69        31\n",
      "weighted avg       0.86      0.84      0.84        31\n",
      "\n"
     ]
    },
    {
     "name": "stderr",
     "output_type": "stream",
     "text": [
      "d:\\shandie\\Anaconda\\lib\\site-packages\\sklearn\\metrics\\_classification.py:1318: UndefinedMetricWarning: Precision and F-score are ill-defined and being set to 0.0 in labels with no predicted samples. Use `zero_division` parameter to control this behavior.\n",
      "  _warn_prf(average, modifier, msg_start, len(result))\n",
      "d:\\shandie\\Anaconda\\lib\\site-packages\\sklearn\\metrics\\_classification.py:1318: UndefinedMetricWarning: Precision and F-score are ill-defined and being set to 0.0 in labels with no predicted samples. Use `zero_division` parameter to control this behavior.\n",
      "  _warn_prf(average, modifier, msg_start, len(result))\n",
      "d:\\shandie\\Anaconda\\lib\\site-packages\\sklearn\\metrics\\_classification.py:1318: UndefinedMetricWarning: Precision and F-score are ill-defined and being set to 0.0 in labels with no predicted samples. Use `zero_division` parameter to control this behavior.\n",
      "  _warn_prf(average, modifier, msg_start, len(result))\n"
     ]
    }
   ],
   "source": [
    "print(classification_report(y_test, pred_gbc))"
   ]
  },
  {
   "cell_type": "markdown",
   "metadata": {},
   "source": [
    "### 4. Random Forest Classifier"
   ]
  },
  {
   "cell_type": "code",
   "execution_count": 25,
   "metadata": {},
   "outputs": [],
   "source": [
    "from sklearn.ensemble import RandomForestClassifier"
   ]
  },
  {
   "cell_type": "code",
   "execution_count": 26,
   "metadata": {},
   "outputs": [
    {
     "data": {
      "text/plain": [
       "RandomForestClassifier(random_state=0)"
      ]
     },
     "execution_count": 26,
     "metadata": {},
     "output_type": "execute_result"
    }
   ],
   "source": [
    "RFC = RandomForestClassifier(random_state=0)\n",
    "RFC.fit(x_train, y_train)"
   ]
  },
  {
   "cell_type": "code",
   "execution_count": 27,
   "metadata": {},
   "outputs": [],
   "source": [
    "pred_rfc = RFC.predict(x_test)"
   ]
  },
  {
   "cell_type": "code",
   "execution_count": 28,
   "metadata": {},
   "outputs": [
    {
     "data": {
      "text/plain": [
       "0.8387096774193549"
      ]
     },
     "execution_count": 28,
     "metadata": {},
     "output_type": "execute_result"
    }
   ],
   "source": [
    "RFC.score(x_test, y_test)"
   ]
  },
  {
   "cell_type": "code",
   "execution_count": 29,
   "metadata": {},
   "outputs": [
    {
     "name": "stdout",
     "output_type": "stream",
     "text": [
      "              precision    recall  f1-score   support\n",
      "\n",
      "           1       0.43      1.00      0.60         3\n",
      "           2       1.00      0.43      0.60         7\n",
      "           5       0.80      1.00      0.89         4\n",
      "          10       1.00      1.00      1.00        11\n",
      "          50       0.00      0.00      0.00         1\n",
      "         100       1.00      1.00      1.00         5\n",
      "\n",
      "    accuracy                           0.84        31\n",
      "   macro avg       0.70      0.74      0.68        31\n",
      "weighted avg       0.89      0.84      0.82        31\n",
      "\n"
     ]
    },
    {
     "name": "stderr",
     "output_type": "stream",
     "text": [
      "d:\\shandie\\Anaconda\\lib\\site-packages\\sklearn\\metrics\\_classification.py:1318: UndefinedMetricWarning: Precision and F-score are ill-defined and being set to 0.0 in labels with no predicted samples. Use `zero_division` parameter to control this behavior.\n",
      "  _warn_prf(average, modifier, msg_start, len(result))\n",
      "d:\\shandie\\Anaconda\\lib\\site-packages\\sklearn\\metrics\\_classification.py:1318: UndefinedMetricWarning: Precision and F-score are ill-defined and being set to 0.0 in labels with no predicted samples. Use `zero_division` parameter to control this behavior.\n",
      "  _warn_prf(average, modifier, msg_start, len(result))\n",
      "d:\\shandie\\Anaconda\\lib\\site-packages\\sklearn\\metrics\\_classification.py:1318: UndefinedMetricWarning: Precision and F-score are ill-defined and being set to 0.0 in labels with no predicted samples. Use `zero_division` parameter to control this behavior.\n",
      "  _warn_prf(average, modifier, msg_start, len(result))\n"
     ]
    }
   ],
   "source": [
    "print(classification_report(y_test, pred_rfc))"
   ]
  },
  {
   "cell_type": "markdown",
   "metadata": {},
   "source": [
    "## Firebase"
   ]
  },
  {
   "cell_type": "code",
   "execution_count": 35,
   "metadata": {},
   "outputs": [
    {
     "ename": "ValueError",
     "evalue": "The default Firebase app already exists. This means you called initialize_app() more than once without providing an app name as the second argument. In most cases you only need to call initialize_app() once. But if you do want to initialize multiple apps, pass a second argument to initialize_app() to give each app a unique name.",
     "output_type": "error",
     "traceback": [
      "\u001b[1;31m---------------------------------------------------------------------------\u001b[0m",
      "\u001b[1;31mValueError\u001b[0m                                Traceback (most recent call last)",
      "\u001b[1;32md:\\shandie\\Fake_news-20220801T082856Z-001\\Fake_news\\uang\\coba3.ipynb Cell 34\u001b[0m in \u001b[0;36m<cell line: 9>\u001b[1;34m()\u001b[0m\n\u001b[0;32m      <a href='vscode-notebook-cell:/d%3A/shandie/Fake_news-20220801T082856Z-001/Fake_news/uang/coba3.ipynb#ch0000037?line=5'>6</a>\u001b[0m cred \u001b[39m=\u001b[39m credentials\u001b[39m.\u001b[39mCertificate(\u001b[39m'\u001b[39m\u001b[39mesp32andfirebase-f0541-firebase-adminsdk-5x1rd-968059b6c1.json\u001b[39m\u001b[39m'\u001b[39m)\n\u001b[0;32m      <a href='vscode-notebook-cell:/d%3A/shandie/Fake_news-20220801T082856Z-001/Fake_news/uang/coba3.ipynb#ch0000037?line=7'>8</a>\u001b[0m \u001b[39m# Initialize the app with a service account, granting admin privileges\u001b[39;00m\n\u001b[1;32m----> <a href='vscode-notebook-cell:/d%3A/shandie/Fake_news-20220801T082856Z-001/Fake_news/uang/coba3.ipynb#ch0000037?line=8'>9</a>\u001b[0m firebase_admin\u001b[39m.\u001b[39;49minitialize_app(cred, {\n\u001b[0;32m     <a href='vscode-notebook-cell:/d%3A/shandie/Fake_news-20220801T082856Z-001/Fake_news/uang/coba3.ipynb#ch0000037?line=9'>10</a>\u001b[0m     \u001b[39m'\u001b[39;49m\u001b[39mdatabaseURL\u001b[39;49m\u001b[39m'\u001b[39;49m: \u001b[39m'\u001b[39;49m\u001b[39mhttps://esp32andfirebase-f0541-default-rtdb.asia-southeast1.firebasedatabase.app/\u001b[39;49m\u001b[39m'\u001b[39;49m\n\u001b[0;32m     <a href='vscode-notebook-cell:/d%3A/shandie/Fake_news-20220801T082856Z-001/Fake_news/uang/coba3.ipynb#ch0000037?line=10'>11</a>\u001b[0m })\n\u001b[0;32m     <a href='vscode-notebook-cell:/d%3A/shandie/Fake_news-20220801T082856Z-001/Fake_news/uang/coba3.ipynb#ch0000037?line=12'>13</a>\u001b[0m \u001b[39m# As an admin, the app has access to read and write all data, regradless of Security Rules\u001b[39;00m\n\u001b[0;32m     <a href='vscode-notebook-cell:/d%3A/shandie/Fake_news-20220801T082856Z-001/Fake_news/uang/coba3.ipynb#ch0000037?line=13'>14</a>\u001b[0m ref \u001b[39m=\u001b[39m db\u001b[39m.\u001b[39mreference(\u001b[39m'\u001b[39m\u001b[39m/Sensor\u001b[39m\u001b[39m'\u001b[39m)\n",
      "File \u001b[1;32md:\\shandie\\Anaconda\\lib\\site-packages\\firebase_admin\\__init__.py:71\u001b[0m, in \u001b[0;36minitialize_app\u001b[1;34m(credential, options, name)\u001b[0m\n\u001b[0;32m     68\u001b[0m         \u001b[39mreturn\u001b[39;00m app\n\u001b[0;32m     70\u001b[0m \u001b[39mif\u001b[39;00m name \u001b[39m==\u001b[39m _DEFAULT_APP_NAME:\n\u001b[1;32m---> 71\u001b[0m     \u001b[39mraise\u001b[39;00m \u001b[39mValueError\u001b[39;00m((\n\u001b[0;32m     72\u001b[0m         \u001b[39m'\u001b[39m\u001b[39mThe default Firebase app already exists. This means you called \u001b[39m\u001b[39m'\u001b[39m\n\u001b[0;32m     73\u001b[0m         \u001b[39m'\u001b[39m\u001b[39minitialize_app() more than once without providing an app name as \u001b[39m\u001b[39m'\u001b[39m\n\u001b[0;32m     74\u001b[0m         \u001b[39m'\u001b[39m\u001b[39mthe second argument. In most cases you only need to call \u001b[39m\u001b[39m'\u001b[39m\n\u001b[0;32m     75\u001b[0m         \u001b[39m'\u001b[39m\u001b[39minitialize_app() once. But if you do want to initialize multiple \u001b[39m\u001b[39m'\u001b[39m\n\u001b[0;32m     76\u001b[0m         \u001b[39m'\u001b[39m\u001b[39mapps, pass a second argument to initialize_app() to give each app \u001b[39m\u001b[39m'\u001b[39m\n\u001b[0;32m     77\u001b[0m         \u001b[39m'\u001b[39m\u001b[39ma unique name.\u001b[39m\u001b[39m'\u001b[39m))\n\u001b[0;32m     79\u001b[0m \u001b[39mraise\u001b[39;00m \u001b[39mValueError\u001b[39;00m((\n\u001b[0;32m     80\u001b[0m     \u001b[39m'\u001b[39m\u001b[39mFirebase app named \u001b[39m\u001b[39m\"\u001b[39m\u001b[39m{0}\u001b[39;00m\u001b[39m\"\u001b[39m\u001b[39m already exists. This means you called \u001b[39m\u001b[39m'\u001b[39m\n\u001b[0;32m     81\u001b[0m     \u001b[39m'\u001b[39m\u001b[39minitialize_app() more than once with the same app name as the \u001b[39m\u001b[39m'\u001b[39m\n\u001b[0;32m     82\u001b[0m     \u001b[39m'\u001b[39m\u001b[39msecond argument. Make sure you provide a unique name every time \u001b[39m\u001b[39m'\u001b[39m\n\u001b[0;32m     83\u001b[0m     \u001b[39m'\u001b[39m\u001b[39myou call initialize_app().\u001b[39m\u001b[39m'\u001b[39m)\u001b[39m.\u001b[39mformat(name))\n",
      "\u001b[1;31mValueError\u001b[0m: The default Firebase app already exists. This means you called initialize_app() more than once without providing an app name as the second argument. In most cases you only need to call initialize_app() once. But if you do want to initialize multiple apps, pass a second argument to initialize_app() to give each app a unique name."
     ]
    }
   ],
   "source": [
    "import firebase_admin\n",
    "from firebase_admin import credentials\n",
    "from firebase_admin import db\n",
    "\n",
    "# Fetch the service account key JSON file contents\n",
    "cred = credentials.Certificate('esp32andfirebase-f0541-firebase-adminsdk-5x1rd-968059b6c1.json')\n",
    "\n",
    "# Initialize the app with a service account, granting admin privileges\n",
    "firebase_admin.initialize_app(cred, {\n",
    "    'databaseURL': 'https://esp32andfirebase-f0541-default-rtdb.asia-southeast1.firebasedatabase.app/'\n",
    "})\n",
    "\n",
    "# As an admin, the app has access to read and write all data, regradless of Security Rules\n",
    "ref = db.reference('/Sensor')\n",
    "print(ref.get())"
   ]
  },
  {
   "cell_type": "code",
   "execution_count": 37,
   "metadata": {},
   "outputs": [
    {
     "ename": "ValueError",
     "evalue": "Invalid database URL: \"None\". Database URL must be a non-empty URL string.",
     "output_type": "error",
     "traceback": [
      "\u001b[1;31m---------------------------------------------------------------------------\u001b[0m",
      "\u001b[1;31mValueError\u001b[0m                                Traceback (most recent call last)",
      "\u001b[1;32md:\\shandie\\Fake_news-20220801T082856Z-001\\Fake_news\\uang\\coba3.ipynb Cell 35\u001b[0m in \u001b[0;36m<cell line: 8>\u001b[1;34m()\u001b[0m\n\u001b[0;32m      <a href='vscode-notebook-cell:/d%3A/shandie/Fake_news-20220801T082856Z-001/Fake_news/uang/coba3.ipynb#ch0000038?line=4'>5</a>\u001b[0m     cred \u001b[39m=\u001b[39m credentials\u001b[39m.\u001b[39mCertificate(\u001b[39m'\u001b[39m\u001b[39mhttps://esp32andfirebase-f0541-default-rtdb.asia-southeast1.firebasedatabase.app/\u001b[39m\u001b[39m'\u001b[39m) \n\u001b[0;32m      <a href='vscode-notebook-cell:/d%3A/shandie/Fake_news-20220801T082856Z-001/Fake_news/uang/coba3.ipynb#ch0000038?line=5'>6</a>\u001b[0m     default_app \u001b[39m=\u001b[39m firebase_admin\u001b[39m.\u001b[39minitialize_app(cred)\n\u001b[1;32m----> <a href='vscode-notebook-cell:/d%3A/shandie/Fake_news-20220801T082856Z-001/Fake_news/uang/coba3.ipynb#ch0000038?line=7'>8</a>\u001b[0m ref \u001b[39m=\u001b[39m db\u001b[39m.\u001b[39;49mreference(\u001b[39m'\u001b[39;49m\u001b[39m/Sensor\u001b[39;49m\u001b[39m'\u001b[39;49m)\n\u001b[0;32m      <a href='vscode-notebook-cell:/d%3A/shandie/Fake_news-20220801T082856Z-001/Fake_news/uang/coba3.ipynb#ch0000038?line=8'>9</a>\u001b[0m \u001b[39mprint\u001b[39m(ref\u001b[39m.\u001b[39mget())\n",
      "File \u001b[1;32md:\\shandie\\Anaconda\\lib\\site-packages\\firebase_admin\\db.py:69\u001b[0m, in \u001b[0;36mreference\u001b[1;34m(path, app, url)\u001b[0m\n\u001b[0;32m     49\u001b[0m \u001b[39m\"\"\"Returns a database ``Reference`` representing the node at the specified path.\u001b[39;00m\n\u001b[0;32m     50\u001b[0m \n\u001b[0;32m     51\u001b[0m \u001b[39mIf no path is specified, this function returns a ``Reference`` that represents the database\u001b[39;00m\n\u001b[1;32m   (...)\u001b[0m\n\u001b[0;32m     66\u001b[0m \u001b[39m  ValueError: If the specified path or app is invalid.\u001b[39;00m\n\u001b[0;32m     67\u001b[0m \u001b[39m\"\"\"\u001b[39;00m\n\u001b[0;32m     68\u001b[0m service \u001b[39m=\u001b[39m _utils\u001b[39m.\u001b[39mget_app_service(app, _DB_ATTRIBUTE, _DatabaseService)\n\u001b[1;32m---> 69\u001b[0m client \u001b[39m=\u001b[39m service\u001b[39m.\u001b[39;49mget_client(url)\n\u001b[0;32m     70\u001b[0m \u001b[39mreturn\u001b[39;00m Reference(client\u001b[39m=\u001b[39mclient, path\u001b[39m=\u001b[39mpath)\n",
      "File \u001b[1;32md:\\shandie\\Anaconda\\lib\\site-packages\\firebase_admin\\db.py:798\u001b[0m, in \u001b[0;36m_DatabaseService.get_client\u001b[1;34m(self, db_url)\u001b[0m\n\u001b[0;32m    795\u001b[0m     db_url \u001b[39m=\u001b[39m \u001b[39mself\u001b[39m\u001b[39m.\u001b[39m_db_url\n\u001b[0;32m    797\u001b[0m \u001b[39mif\u001b[39;00m \u001b[39mnot\u001b[39;00m db_url \u001b[39mor\u001b[39;00m \u001b[39mnot\u001b[39;00m \u001b[39misinstance\u001b[39m(db_url, \u001b[39mstr\u001b[39m):\n\u001b[1;32m--> 798\u001b[0m     \u001b[39mraise\u001b[39;00m \u001b[39mValueError\u001b[39;00m(\n\u001b[0;32m    799\u001b[0m         \u001b[39m'\u001b[39m\u001b[39mInvalid database URL: \u001b[39m\u001b[39m\"\u001b[39m\u001b[39m{0}\u001b[39;00m\u001b[39m\"\u001b[39m\u001b[39m. Database URL must be a non-empty \u001b[39m\u001b[39m'\u001b[39m\n\u001b[0;32m    800\u001b[0m         \u001b[39m'\u001b[39m\u001b[39mURL string.\u001b[39m\u001b[39m'\u001b[39m\u001b[39m.\u001b[39mformat(db_url))\n\u001b[0;32m    802\u001b[0m parsed_url \u001b[39m=\u001b[39m parse\u001b[39m.\u001b[39murlparse(db_url)\n\u001b[0;32m    803\u001b[0m \u001b[39mif\u001b[39;00m \u001b[39mnot\u001b[39;00m parsed_url\u001b[39m.\u001b[39mnetloc:\n",
      "\u001b[1;31mValueError\u001b[0m: Invalid database URL: \"None\". Database URL must be a non-empty URL string."
     ]
    }
   ],
   "source": [
    "import firebase_admin\n",
    "from firebase_admin import credentials\n",
    "\n",
    "if not firebase_admin._apps:\n",
    "    cred = credentials.Certificate('esp32andfirebase-f0541-firebase-adminsdk-5x1rd-968059b6c1.json') \n",
    "    default_app = firebase_admin.initialize_app(cred)\n",
    "\n",
    "ref = db.reference('/Sensor')\n",
    "print(ref.get())"
   ]
  },
  {
   "cell_type": "markdown",
   "metadata": {},
   "source": [
    "## Testing"
   ]
  },
  {
   "cell_type": "code",
   "execution_count": null,
   "metadata": {},
   "outputs": [],
   "source": [
    "def output_lable(n):\n",
    "    if n == 1:\n",
    "        return \"Uang Seribu Rupiah\"\n",
    "    elif n == 2:\n",
    "        return \"Uang Dua Ribu Rupiah\"\n",
    "    elif n == 5:\n",
    "        return \"Uang Lima Ribu Rupiah\"\n",
    "    elif n == 10:\n",
    "        return \"Uang Sepuluh Ribu Rupiah\"\n",
    "    elif n == 50:\n",
    "        return \"Uang Lima Puluh Ribu Rupiah\"\n",
    "    else :\n",
    "        return \"Uang Seratus Ribu Rupiah\"\n",
    "\n",
    "#def manual_testing(r):\n",
    " #   testing = {\"R\":[r]}\n",
    "  #  new_def_test = pd.DataFrame(testing)\n",
    "   # new_x_test = new_def_test[\"R\"]\n",
    "    #pred_LR = LR.predict(new_x_test)\n",
    "    #pred_DT = DT.predict(new_x_test)\n",
    "   # pred_GBC = GBC.predict(new_x_test)\n",
    "    #pred_RFC = RFC.predict(new_x_test)\n",
    "\n",
    "def manual_testing():\n",
    "    testing = {\"R\":['r'], \"G\":['g'], \"B\":['b']}\n",
    "    new_def_test = pd.DataFrame(testing)\n",
    "    new_x_test = new_def_test[\"R\", \"G\", \"B\"]\n",
    "    pred_LR = LR.predict(new_x_test)\n",
    "    pred_DT = DT.predict(new_x_test)\n",
    "    pred_GBC = GBC.predict(new_x_test)\n",
    "    pred_RFC = RFC.predict(new_x_test)\n",
    "\n",
    "    return print(\"\\n\\nLR Prediction: {} \\nDT Prediction: {} \\nGBC Prediction: {} \\nRFC Prediction: {}\".format(output_lable(pred_LR[0]), \n",
    "                                                                                                              output_lable(pred_DT[0]), \n",
    "                                                                                                              output_lable(pred_GBC[0]), \n",
    "                                                                                                              output_lable(pred_RFC[0])))"
   ]
  },
  {
   "cell_type": "code",
   "execution_count": null,
   "metadata": {},
   "outputs": [
    {
     "ename": "TypeError",
     "evalue": "manual_testing() takes 0 positional arguments but 1 was given",
     "output_type": "error",
     "traceback": [
      "\u001b[1;31m---------------------------------------------------------------------------\u001b[0m",
      "\u001b[1;31mTypeError\u001b[0m                                 Traceback (most recent call last)",
      "\u001b[1;32md:\\shandie\\Fake_news-20220801T082856Z-001\\Fake_news\\uang\\coba3.ipynb Cell 38\u001b[0m in \u001b[0;36m<cell line: 1>\u001b[1;34m()\u001b[0m\n\u001b[1;32m----> <a href='vscode-notebook-cell:/d%3A/shandie/Fake_news-20220801T082856Z-001/Fake_news/uang/coba3.ipynb#ch0000034?line=0'>1</a>\u001b[0m manual_testing(ref\u001b[39m.\u001b[39;49mget())\n",
      "\u001b[1;31mTypeError\u001b[0m: manual_testing() takes 0 positional arguments but 1 was given"
     ]
    }
   ],
   "source": [
    "manual_testing(ref.get())"
   ]
  }
 ],
 "metadata": {
  "kernelspec": {
   "display_name": "Python 3.9.12 ('base')",
   "language": "python",
   "name": "python3"
  },
  "language_info": {
   "codemirror_mode": {
    "name": "ipython",
    "version": 3
   },
   "file_extension": ".py",
   "mimetype": "text/x-python",
   "name": "python",
   "nbconvert_exporter": "python",
   "pygments_lexer": "ipython3",
   "version": "3.9.12"
  },
  "orig_nbformat": 4,
  "vscode": {
   "interpreter": {
    "hash": "8828267ebff24d27fba6577ce1ead7b88e72d811aa9fa5b3eea13311e59e04cb"
   }
  }
 },
 "nbformat": 4,
 "nbformat_minor": 2
}
